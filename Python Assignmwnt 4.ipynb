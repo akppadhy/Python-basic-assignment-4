{
 "cells": [
  {
   "cell_type": "code",
   "execution_count": null,
   "id": "d74d5336-34cc-422f-a96e-a6f4b2662b06",
   "metadata": {},
   "outputs": [],
   "source": [
    "#1. What exactly is [ ]?\n",
    "\n",
    "Ans : - [ ] is a empty list."
   ]
  },
  {
   "cell_type": "code",
   "execution_count": null,
   "id": "0ce16317-0dfd-470f-8ac1-5c0c7e609769",
   "metadata": {},
   "outputs": [],
   "source": [
    "#2. In a list of values stored in a variable called spam, how would you assign the value hello' as the third value? \n",
    "(Assume [2, 4, 6, 8, 10] are in spam.)\n",
    "Lets pretend the spam includes the list ['a', 'b','c','d'] for the next three queries."
   ]
  },
  {
   "cell_type": "code",
   "execution_count": 1,
   "id": "f929c1c9-d901-4096-bcef-77b5a6a1a006",
   "metadata": {},
   "outputs": [
    {
     "data": {
      "text/plain": [
       "[2, 4, 'hello', 8, 10]"
      ]
     },
     "execution_count": 1,
     "metadata": {},
     "output_type": "execute_result"
    }
   ],
   "source": [
    "# solution by changing the value in index 3\n",
    "spam = [2, 4, 6, 8, 10]\n",
    "spam[2] = 'hello'\n",
    "spam"
   ]
  },
  {
   "cell_type": "code",
   "execution_count": 2,
   "id": "d3313cb1-9e15-4916-afa9-c2f2cbeedba7",
   "metadata": {},
   "outputs": [
    {
     "data": {
      "text/plain": [
       "'d'"
      ]
     },
     "execution_count": 2,
     "metadata": {},
     "output_type": "execute_result"
    }
   ],
   "source": [
    "#3. What is the value of spam[int(int(3 * 2) / 11)]?\n",
    "\n",
    "spam = ['a', 'b','c','d']\n",
    "spam[int(int('3' * 2) / 11)] # spam[int(33/11)] = spam[3]"
   ]
  },
  {
   "cell_type": "code",
   "execution_count": 3,
   "id": "20d548f5-4bc0-4226-91f1-1606f775de53",
   "metadata": {},
   "outputs": [
    {
     "data": {
      "text/plain": [
       "'d'"
      ]
     },
     "execution_count": 3,
     "metadata": {},
     "output_type": "execute_result"
    }
   ],
   "source": [
    "#4. What is the value of spam[-1]?\n",
    "\n",
    "spam = ['a', 'b','c','d']\n",
    "spam[-1] # negative index # d"
   ]
  },
  {
   "cell_type": "code",
   "execution_count": 4,
   "id": "746e922b-9c45-4659-80f7-49487d68c0aa",
   "metadata": {},
   "outputs": [
    {
     "data": {
      "text/plain": [
       "['a', 'b']"
      ]
     },
     "execution_count": 4,
     "metadata": {},
     "output_type": "execute_result"
    }
   ],
   "source": [
    "#5. What is the value of spam[:2]?\n",
    "\n",
    "spam[:2] # c\n",
    "Let's pretend bacon has the list [3.14, 'cat' 11, 'cat' True] for the next three questions."
   ]
  },
  {
   "cell_type": "code",
   "execution_count": 6,
   "id": "23531a96-5a7f-45fe-aab4-6e955bacd830",
   "metadata": {},
   "outputs": [
    {
     "data": {
      "text/plain": [
       "1"
      ]
     },
     "execution_count": 6,
     "metadata": {},
     "output_type": "execute_result"
    }
   ],
   "source": [
    "#6. What is the value of bacon.index('cat')?\n",
    "\n",
    "bacon = [3.14, 'cat', 11, 'cat', True]\n",
    "bacon.index('cat') # it returns the index of first occurrence of 'cat'"
   ]
  },
  {
   "cell_type": "code",
   "execution_count": 7,
   "id": "52b85c2e-882e-43ec-bc69-cb00d41bcb5d",
   "metadata": {},
   "outputs": [
    {
     "data": {
      "text/plain": [
       "[3.14, 'cat', 11, 'cat', True, 99]"
      ]
     },
     "execution_count": 7,
     "metadata": {},
     "output_type": "execute_result"
    }
   ],
   "source": [
    "#7. How does bacon.append(99) change the look of the list value in bacon?\n",
    "\n",
    "bacon = [3.14, 'cat', 11, 'cat', True]\n",
    "bacon.append(99) # append adds the item at the end of the list\n",
    "bacon\n",
    "     "
   ]
  },
  {
   "cell_type": "code",
   "execution_count": 8,
   "id": "6b9f893a-f665-4f37-944c-8569ac0d5214",
   "metadata": {},
   "outputs": [
    {
     "data": {
      "text/plain": [
       "[3.14, 11, 'cat', True]"
      ]
     },
     "execution_count": 8,
     "metadata": {},
     "output_type": "execute_result"
    }
   ],
   "source": [
    "#8.How does bacon.remove('cat') change the look of the list in bacon?\n",
    "\n",
    "bacon = [3.14, 'cat', 11, 'cat', True]\n",
    "bacon.remove('cat') # remove first occurrence of item\n",
    "bacon"
   ]
  },
  {
   "cell_type": "code",
   "execution_count": null,
   "id": "665fa6fb-f8bb-4bb9-b5a4-70aad7fb3074",
   "metadata": {},
   "outputs": [],
   "source": [
    "#9. What are the list concatenation and list replication operators?\n",
    "\n",
    "Ans. ( * ) is list replication operator ( + ) is list concatination operator.\n",
    "\n"
   ]
  },
  {
   "cell_type": "code",
   "execution_count": null,
   "id": "37dcb7dc-527c-4c58-9e99-da71fef44037",
   "metadata": {},
   "outputs": [],
   "source": [
    "#10. What is difference between the list methods append() and insert()?\n",
    "\n",
    "Ans. append() Appends object to the end of the list\n",
    "insert() Insert object before index"
   ]
  },
  {
   "cell_type": "code",
   "execution_count": null,
   "id": "b5eefb71-85f2-4d65-9819-6de9ebf607da",
   "metadata": {},
   "outputs": [],
   "source": [
    "#11. What are the two methods for removing items from a list?\n",
    "\n",
    "Ans. The del statement and the remove() list method are two ways to remove values from a list."
   ]
  },
  {
   "cell_type": "code",
   "execution_count": null,
   "id": "290f056d-2c38-41cd-a35c-945a44dc3285",
   "metadata": {},
   "outputs": [],
   "source": [
    "#12.Describe how list values and string values are identical.\n",
    "\n",
    "Ans. Both lists and strings can be passed to len(), have indexes and slices, be used in for loops, be concatenated or replicated,\n",
    "and be used with the in and not in operators."
   ]
  },
  {
   "cell_type": "code",
   "execution_count": null,
   "id": "243d5ede-8992-40e5-b06b-e7cdc3cb76c8",
   "metadata": {},
   "outputs": [],
   "source": [
    "#13. What's the difference between tuples and lists?\n",
    "\n",
    "Ans. Lists are mutable; they can have values added, removed, or changed. Tuples are immutable; they cannot be changed at all. \n",
    "Also, tuples are written using parentheses, ( and ), while lists use the square brackets, [ and ]."
   ]
  },
  {
   "cell_type": "code",
   "execution_count": 10,
   "id": "a6537cbb-01a8-4c9a-a7a7-23e7a0c793fa",
   "metadata": {},
   "outputs": [
    {
     "data": {
      "text/plain": [
       "(42,)"
      ]
     },
     "execution_count": 10,
     "metadata": {},
     "output_type": "execute_result"
    }
   ],
   "source": [
    "#14. How do you type a tuple value that only contains the integer 42?\n",
    "\n",
    "tuple = (42,)\n",
    "tuple\n"
   ]
  },
  {
   "cell_type": "code",
   "execution_count": null,
   "id": "cc95eda9-9c3a-4fcc-bb1c-f49d241eb9fd",
   "metadata": {},
   "outputs": [],
   "source": [
    "#15.How do you get a list value's tuple form? How do you get a tuple value's list form?\n",
    "\n",
    "Ans. The tuple() and list() functions, respectively."
   ]
  },
  {
   "cell_type": "code",
   "execution_count": null,
   "id": "e89e56b9-5792-4b9d-9978-0d6aabefe59e",
   "metadata": {},
   "outputs": [],
   "source": [
    "#16. Variables that \"contain\" list values are not necessarily lists themselves. Instead, what do they contain?\n",
    "\n",
    "Ans. They contain references to list values."
   ]
  },
  {
   "cell_type": "code",
   "execution_count": null,
   "id": "dc58d9de-b620-4828-afde-ba1bf2dea631",
   "metadata": {},
   "outputs": [],
   "source": [
    "#17.How do you distinguish between copy.copy() and copy.deepcopy()?\n",
    "\n",
    "Ans. The copy.copy() function will do a shallow copy of a list,\n",
    "The copy.deepcopy() function will do a deep copy of a list. only copy.deepcopy() will duplicate any lists inside the list."
   ]
  }
 ],
 "metadata": {
  "kernelspec": {
   "display_name": "Python 3 (ipykernel)",
   "language": "python",
   "name": "python3"
  },
  "language_info": {
   "codemirror_mode": {
    "name": "ipython",
    "version": 3
   },
   "file_extension": ".py",
   "mimetype": "text/x-python",
   "name": "python",
   "nbconvert_exporter": "python",
   "pygments_lexer": "ipython3",
   "version": "3.10.6"
  }
 },
 "nbformat": 4,
 "nbformat_minor": 5
}
